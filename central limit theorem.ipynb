{
 "cells": [
  {
   "cell_type": "code",
   "execution_count": 2,
   "id": "391a9093",
   "metadata": {},
   "outputs": [],
   "source": [
    "import pandas as pd"
   ]
  },
  {
   "cell_type": "code",
   "execution_count": 3,
   "id": "55d5c193",
   "metadata": {},
   "outputs": [],
   "source": [
    "import seaborn as sns\n",
    "import matplotlib\n",
    "import matplotlib.pyplot as plt\n",
    "import numpy as np"
   ]
  },
  {
   "cell_type": "raw",
   "id": "c58ab026",
   "metadata": {},
   "source": [
    "TESTING THEORITICAL MEAN, VARIANCE AND SAMPLING DIST SAMPLE MEAN AND VARIANCE FOR UNIFORM DISTRIBUTION\n"
   ]
  },
  {
   "cell_type": "raw",
   "id": "2e30ec02",
   "metadata": {},
   "source": [
    "# FIRST GENERATE A SAMPLE UNIFORM DISTRIBUTION\n",
    "# CALCULATE ITS MEAN AND VARIANCE\n",
    "# THEN DISTRIBUTE IT INTO SETS OF UNIFORM SAMPLES AND CALCULATE THE SAMPLE MEANS \n",
    "#  CALCULATE THE COMBINED MEAN AND COMBINED VARIANCE OF SAMPLE MEANS\n"
   ]
  },
  {
   "cell_type": "code",
   "execution_count": 4,
   "id": "fe6c6fa1",
   "metadata": {},
   "outputs": [],
   "source": [
    "uniform= np.random.uniform(low=0,high=10,size=10000)"
   ]
  },
  {
   "cell_type": "code",
   "execution_count": 5,
   "id": "3550eef7",
   "metadata": {},
   "outputs": [
    {
     "data": {
      "image/png": "[encoded data removed]",
      "text/plain": [
       "<Figure size 400x200 with 1 Axes>"
      ]
     },
     "metadata": {},
     "output_type": "display_data"
    }
   ],
   "source": [
    "plt.figure(figsize=(4,2))\n",
    "plt.hist(uniform,edgecolor='black');"
   ]
  },
  {
   "cell_type": "code",
   "execution_count": 6,
   "id": "9d5fddbd",
   "metadata": {},
   "outputs": [
    {
     "data": {
      "text/plain": [
       "4.985542646320531"
      ]
     },
     "execution_count": 6,
     "metadata": {},
     "output_type": "execute_result"
    }
   ],
   "source": [
    "uniform.mean()"
   ]
  },
  {
   "cell_type": "code",
   "execution_count": 7,
   "id": "6d17336c",
   "metadata": {},
   "outputs": [
    {
     "data": {
      "text/plain": [
       "8.383744878025277"
      ]
     },
     "execution_count": 7,
     "metadata": {},
     "output_type": "execute_result"
    }
   ],
   "source": [
    "uniform.var()"
   ]
  },
  {
   "cell_type": "code",
   "execution_count": 8,
   "id": "1e710ca4",
   "metadata": {},
   "outputs": [],
   "source": [
    "sample_uniform= np.random.uniform(low=0,high=10,size=(50,200)) \n",
    "#200 is the sample size(number of buckets) and 50 is the sampelings in a bucket"
   ]
  },
  {
   "cell_type": "code",
   "execution_count": 9,
   "id": "93a217fa",
   "metadata": {},
   "outputs": [
    {
     "data": {
      "image/png": "[encoded data removed]",
      "text/plain": [
       "<Figure size 400x200 with 1 Axes>"
      ]
     },
     "metadata": {},
     "output_type": "display_data"
    }
   ],
   "source": [
    "plt.figure(figsize=(4,2))\n",
    "plt.hist(sample_uniform[0],edgecolor='black');"
   ]
  },
  {
   "cell_type": "code",
   "execution_count": 16,
   "id": "7aa74154",
   "metadata": {},
   "outputs": [
    {
     "data": {
      "text/plain": [
       "array([4.91030242, 5.35009757, 4.65114017, 5.26588157, 4.84082541,\n",
       "       4.92505257, 5.0544056 , 4.43447717, 5.32285224, 4.98597209,\n",
       "       4.68949245, 5.21394152, 4.84734606, 4.96912761, 4.68296795,\n",
       "       5.11015542, 5.09160811, 5.17568045, 4.93191911, 4.91946968,\n",
       "       4.95664101, 4.71592045, 5.18442707, 4.98609389, 5.46247433,\n",
       "       4.78001771, 5.00972998, 4.9750488 , 4.68630546, 4.91600474,\n",
       "       5.18182209, 5.00356761, 4.90983137, 4.84993855, 4.85804032,\n",
       "       5.10864775, 4.58419384, 4.79231743, 4.75528294, 4.87714348,\n",
       "       5.27175585, 5.03183948, 4.79549706, 4.71307527, 5.04027783,\n",
       "       4.5929125 , 4.80869458, 5.19049691, 5.25528107, 4.60767512])"
      ]
     },
     "execution_count": 16,
     "metadata": {},
     "output_type": "execute_result"
    }
   ],
   "source": [
    "sample_uniform_mean=np.mean(sample_uniform,axis=1)\n",
    "sample_uniform_mean"
   ]
  },
  {
   "cell_type": "code",
   "execution_count": 17,
   "id": "87069501",
   "metadata": {},
   "outputs": [
    {
     "data": {
      "image/png": "[encoded data removed]",
      "text/plain": [
       "<Figure size 640x480 with 1 Axes>"
      ]
     },
     "metadata": {},
     "output_type": "display_data"
    }
   ],
   "source": [
    "plt.hist(sample_uniform_mean,edgecolor='black');"
   ]
  },
  {
   "cell_type": "code",
   "execution_count": 12,
   "id": "4f8b048a",
   "metadata": {},
   "outputs": [
    {
     "data": {
      "text/plain": [
       "4.945473393930652"
      ]
     },
     "execution_count": 12,
     "metadata": {},
     "output_type": "execute_result"
    }
   ],
   "source": [
    "emperical_mean=np.mean(sample_uniform_mean)\n",
    "emperical_mean"
   ]
  },
  {
   "cell_type": "code",
   "execution_count": 13,
   "id": "1b1192fe",
   "metadata": {},
   "outputs": [
    {
     "data": {
      "text/plain": [
       "0.049844542542072434"
      ]
     },
     "execution_count": 13,
     "metadata": {},
     "output_type": "execute_result"
    }
   ],
   "source": [
    "emperical_var=np.var(sample_uniform_mean)\n",
    "emperical_var"
   ]
  },
  {
   "cell_type": "code",
   "execution_count": 14,
   "id": "c28aad08",
   "metadata": {},
   "outputs": [
    {
     "data": {
      "text/plain": [
       "9.968908508414486"
      ]
     },
     "execution_count": 14,
     "metadata": {},
     "output_type": "execute_result"
    }
   ],
   "source": [
    "emperical_var*200"
   ]
  }
 ],
 "metadata": {
  "kernelspec": {
   "display_name": "Python 3 (ipykernel)",
   "language": "python",
   "name": "python3"
  },
  "language_info": {
   "codemirror_mode": {
    "name": "ipython",
    "version": 3
   },
   "file_extension": ".py",
   "mimetype": "text/x-python",
   "name": "python",
   "nbconvert_exporter": "python",
   "pygments_lexer": "ipython3",
   "version": "3.10.7"
  }
 },
 "nbformat": 4,
 "nbformat_minor": 5
}
